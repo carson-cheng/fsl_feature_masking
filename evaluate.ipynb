{
 "cells": [
  {
   "cell_type": "code",
   "execution_count": 1,
   "id": "ac35e215-5934-4a0d-92fb-337a434c0dc1",
   "metadata": {},
   "outputs": [
    {
     "name": "stdout",
     "output_type": "stream",
     "text": [
      "Cloning into 'easy-few-shot-learning'...\n",
      "remote: Enumerating objects: 1201, done.\u001b[K\n",
      "remote: Counting objects: 100% (360/360), done.\u001b[K\n",
      "remote: Compressing objects: 100% (184/184), done.\u001b[K\n",
      "remote: Total 1201 (delta 250), reused 180 (delta 176), pack-reused 841 (from 1)\u001b[K\n",
      "Receiving objects: 100% (1201/1201), 2.31 MiB | 5.99 MiB/s, done.\n",
      "Resolving deltas: 100% (721/721), done.\n",
      "/app/notebooks/easy-few-shot-learning\n"
     ]
    },
    {
     "name": "stderr",
     "output_type": "stream",
     "text": [
      "/usr/local/lib/python3.10/dist-packages/IPython/core/magics/osm.py:417: UserWarning: This is now an optional IPython functionality, setting dhist requires you to install the `pickleshare` library.\n",
      "  self.shell.db['dhist'] = compress_dhist(dhist)[-100:]\n"
     ]
    },
    {
     "name": "stdout",
     "output_type": "stream",
     "text": [
      "Processing /app/notebooks/easy-few-shot-learning\n",
      "  Installing build dependencies ... \u001b[?25done\n",
      "\u001b[?25h  Getting requirements to build wheel ... \u001b[?25done\n",
      "\u001b[?25h  Preparing metadata (pyproject.toml) ... \u001b[?25done\n",
      "\u001b[?25hCollecting matplotlib>=3.0.0 (from easyfsl==1.5.0)\n",
      "  Downloading matplotlib-3.10.1-cp310-cp310-manylinux_2_17_x86_64.manylinux2014_x86_64.whl.metadata (11 kB)\n",
      "Collecting pandas>=1.5.0 (from easyfsl==1.5.0)\n",
      "  Downloading pandas-2.2.3-cp310-cp310-manylinux_2_17_x86_64.manylinux2014_x86_64.whl.metadata (89 kB)\n",
      "Requirement already satisfied: torch>=1.5.0 in /usr/local/lib/python3.10/dist-packages (from easyfsl==1.5.0) (2.7.0.dev20250310+cu128)\n",
      "Requirement already satisfied: torchvision>=0.7.0 in /usr/local/lib/python3.10/dist-packages (from easyfsl==1.5.0) (0.22.0.dev20250310+cu128)\n",
      "Collecting tqdm>=4.1.0 (from easyfsl==1.5.0)\n",
      "  Downloading tqdm-4.67.1-py3-none-any.whl.metadata (57 kB)\n",
      "Collecting contourpy>=1.0.1 (from matplotlib>=3.0.0->easyfsl==1.5.0)\n",
      "  Downloading contourpy-1.3.1-cp310-cp310-manylinux_2_17_x86_64.manylinux2014_x86_64.whl.metadata (5.4 kB)\n",
      "Collecting cycler>=0.10 (from matplotlib>=3.0.0->easyfsl==1.5.0)\n",
      "  Downloading cycler-0.12.1-py3-none-any.whl.metadata (3.8 kB)\n",
      "Collecting fonttools>=4.22.0 (from matplotlib>=3.0.0->easyfsl==1.5.0)\n",
      "  Downloading fonttools-4.56.0-cp310-cp310-manylinux_2_17_x86_64.manylinux2014_x86_64.whl.metadata (101 kB)\n",
      "Collecting kiwisolver>=1.3.1 (from matplotlib>=3.0.0->easyfsl==1.5.0)\n",
      "  Downloading kiwisolver-1.4.8-cp310-cp310-manylinux_2_12_x86_64.manylinux2010_x86_64.whl.metadata (6.2 kB)\n",
      "Requirement already satisfied: numpy>=1.23 in /usr/local/lib/python3.10/dist-packages (from matplotlib>=3.0.0->easyfsl==1.5.0) (2.1.2)\n",
      "Requirement already satisfied: packaging>=20.0 in /usr/local/lib/python3.10/dist-packages (from matplotlib>=3.0.0->easyfsl==1.5.0) (24.2)\n",
      "Requirement already satisfied: pillow>=8 in /usr/local/lib/python3.10/dist-packages (from matplotlib>=3.0.0->easyfsl==1.5.0) (11.0.0)\n",
      "Collecting pyparsing>=2.3.1 (from matplotlib>=3.0.0->easyfsl==1.5.0)\n",
      "  Downloading pyparsing-3.2.1-py3-none-any.whl.metadata (5.0 kB)\n",
      "Requirement already satisfied: python-dateutil>=2.7 in /usr/local/lib/python3.10/dist-packages (from matplotlib>=3.0.0->easyfsl==1.5.0) (2.9.0.post0)\n",
      "Collecting pytz>=2020.1 (from pandas>=1.5.0->easyfsl==1.5.0)\n",
      "  Downloading pytz-2025.1-py2.py3-none-any.whl.metadata (22 kB)\n",
      "Collecting tzdata>=2022.7 (from pandas>=1.5.0->easyfsl==1.5.0)\n",
      "  Downloading tzdata-2025.1-py2.py3-none-any.whl.metadata (1.4 kB)\n",
      "Requirement already satisfied: filelock in /usr/local/lib/python3.10/dist-packages (from torch>=1.5.0->easyfsl==1.5.0) (3.16.1)\n",
      "Requirement already satisfied: typing-extensions>=4.10.0 in /usr/local/lib/python3.10/dist-packages (from torch>=1.5.0->easyfsl==1.5.0) (4.12.2)\n",
      "Requirement already satisfied: sympy>=1.13.3 in /usr/local/lib/python3.10/dist-packages (from torch>=1.5.0->easyfsl==1.5.0) (1.13.3)\n",
      "Requirement already satisfied: networkx in /usr/local/lib/python3.10/dist-packages (from torch>=1.5.0->easyfsl==1.5.0) (3.4.2)\n",
      "Requirement already satisfied: jinja2 in /usr/local/lib/python3.10/dist-packages (from torch>=1.5.0->easyfsl==1.5.0) (3.1.6)\n",
      "Requirement already satisfied: fsspec in /usr/local/lib/python3.10/dist-packages (from torch>=1.5.0->easyfsl==1.5.0) (2024.10.0)\n",
      "Requirement already satisfied: nvidia-cuda-nvrtc-cu12==12.8.61 in /usr/local/lib/python3.10/dist-packages (from torch>=1.5.0->easyfsl==1.5.0) (12.8.61)\n",
      "Requirement already satisfied: nvidia-cuda-runtime-cu12==12.8.57 in /usr/local/lib/python3.10/dist-packages (from torch>=1.5.0->easyfsl==1.5.0) (12.8.57)\n",
      "Requirement already satisfied: nvidia-cuda-cupti-cu12==12.8.57 in /usr/local/lib/python3.10/dist-packages (from torch>=1.5.0->easyfsl==1.5.0) (12.8.57)\n",
      "Requirement already satisfied: nvidia-cudnn-cu12==9.7.1.26 in /usr/local/lib/python3.10/dist-packages (from torch>=1.5.0->easyfsl==1.5.0) (9.7.1.26)\n",
      "Requirement already satisfied: nvidia-cublas-cu12==12.8.3.14 in /usr/local/lib/python3.10/dist-packages (from torch>=1.5.0->easyfsl==1.5.0) (12.8.3.14)\n",
      "Requirement already satisfied: nvidia-cufft-cu12==11.3.3.41 in /usr/local/lib/python3.10/dist-packages (from torch>=1.5.0->easyfsl==1.5.0) (11.3.3.41)\n",
      "Requirement already satisfied: nvidia-curand-cu12==10.3.9.55 in /usr/local/lib/python3.10/dist-packages (from torch>=1.5.0->easyfsl==1.5.0) (10.3.9.55)\n",
      "Requirement already satisfied: nvidia-cusolver-cu12==11.7.2.55 in /usr/local/lib/python3.10/dist-packages (from torch>=1.5.0->easyfsl==1.5.0) (11.7.2.55)\n",
      "Requirement already satisfied: nvidia-cusparse-cu12==12.5.7.53 in /usr/local/lib/python3.10/dist-packages (from torch>=1.5.0->easyfsl==1.5.0) (12.5.7.53)\n",
      "Requirement already satisfied: nvidia-cusparselt-cu12==0.6.3 in /usr/local/lib/python3.10/dist-packages (from torch>=1.5.0->easyfsl==1.5.0) (0.6.3)\n",
      "Requirement already satisfied: nvidia-nccl-cu12==2.25.1 in /usr/local/lib/python3.10/dist-packages (from torch>=1.5.0->easyfsl==1.5.0) (2.25.1)\n",
      "Requirement already satisfied: nvidia-nvtx-cu12==12.8.55 in /usr/local/lib/python3.10/dist-packages (from torch>=1.5.0->easyfsl==1.5.0) (12.8.55)\n",
      "Requirement already satisfied: nvidia-nvjitlink-cu12==12.8.61 in /usr/local/lib/python3.10/dist-packages (from torch>=1.5.0->easyfsl==1.5.0) (12.8.61)\n",
      "Requirement already satisfied: nvidia-cufile-cu12==1.13.0.11 in /usr/local/lib/python3.10/dist-packages (from torch>=1.5.0->easyfsl==1.5.0) (1.13.0.11)\n",
      "Requirement already satisfied: pytorch-triton==3.2.0+git4b3bb1f8 in /usr/local/lib/python3.10/dist-packages (from torch>=1.5.0->easyfsl==1.5.0) (3.2.0+git4b3bb1f8)\n",
      "Requirement already satisfied: six>=1.5 in /usr/local/lib/python3.10/dist-packages (from python-dateutil>=2.7->matplotlib>=3.0.0->easyfsl==1.5.0) (1.17.0)\n",
      "Requirement already satisfied: mpmath<1.4,>=1.1.0 in /usr/local/lib/python3.10/dist-packages (from sympy>=1.13.3->torch>=1.5.0->easyfsl==1.5.0) (1.3.0)\n",
      "Requirement already satisfied: MarkupSafe>=2.0 in /usr/local/lib/python3.10/dist-packages (from jinja2->torch>=1.5.0->easyfsl==1.5.0) (3.0.2)\n",
      "Downloading matplotlib-3.10.1-cp310-cp310-manylinux_2_17_x86_64.manylinux2014_x86_64.whl (8.6 MB)\n",
      "\u001b[2K   \u001b[90m━━━━━━━━━━━━━━━━━━━━━━━━━━━━━━━━━━━━━━━━\u001b[0m \u001b[32m8.6/8.6 MB\u001b[0m \u001b[31m27.3 MB/s\u001b[0m eta \u001b[36m0:00:00\u001b[0ma \u001b[36m0:00:01\u001b[0m\n",
      "\u001b[?25hDownloading pandas-2.2.3-cp310-cp310-manylinux_2_17_x86_64.manylinux2014_x86_64.whl (13.1 MB)\n",
      "\u001b[2K   \u001b[90m━━━━━━━━━━━━━━━━━━━━━━━━━━━━━━━━━━━━━━━━\u001b[0m \u001b[32m13.1/13.1 MB\u001b[0m \u001b[31m26.7 MB/s\u001b[0m eta \u001b[36m0:00:00\u001b[0ma \u001b[36m0:00:01\u001b[0m\n",
      "\u001b[?25hDownloading tqdm-4.67.1-py3-none-any.whl (78 kB)\n",
      "Downloading contourpy-1.3.1-cp310-cp310-manylinux_2_17_x86_64.manylinux2014_x86_64.whl (324 kB)\n",
      "Downloading cycler-0.12.1-py3-none-any.whl (8.3 kB)\n",
      "Downloading fonttools-4.56.0-cp310-cp310-manylinux_2_17_x86_64.manylinux2014_x86_64.whl (4.6 MB)\n",
      "\u001b[2K   \u001b[90m━━━━━━━━━━━━━━━━━━━━━━━━━━━━━━━━━━━━━━━━\u001b[0m \u001b[32m4.6/4.6 MB\u001b[0m \u001b[31m28.2 MB/s\u001b[0m eta \u001b[36m0:00:00\u001b[0m\n",
      "\u001b[?25hDownloading kiwisolver-1.4.8-cp310-cp310-manylinux_2_12_x86_64.manylinux2010_x86_64.whl (1.6 MB)\n",
      "\u001b[2K   \u001b[90m━━━━━━━━━━━━━━━━━━━━━━━━━━━━━━━━━━━━━━━━\u001b[0m \u001b[32m1.6/1.6 MB\u001b[0m \u001b[31m25.5 MB/s\u001b[0m eta \u001b[36m0:00:00\u001b[0m\n",
      "\u001b[?25hDownloading pyparsing-3.2.1-py3-none-any.whl (107 kB)\n",
      "Downloading pytz-2025.1-py2.py3-none-any.whl (507 kB)\n",
      "Downloading tzdata-2025.1-py2.py3-none-any.whl (346 kB)\n",
      "Building wheels for collected packages: easyfsl\n",
      "  Building wheel for easdone\n",
      "\u001b[?25h  Created wheel for easyfsl: filename=easyfsl-1.5.0-py3-none-any.whl size=73007 sha256=fb1ca3a10be752c02b69f99bf1878477c5261cc2ca61b03039378f06aa3896a0\n",
      "  Stored in directory: /root/.cache/pip/wheels/b6/52/1d/c75240ebafe80d04a4fb2b1b01952a17b1ded5a8c9fa7379c9\n",
      "Successfully built easyfsl\n",
      "Installing collected packages: pytz, tzdata, tqdm, pyparsing, kiwisolver, fonttools, cycler, contourpy, pandas, matplotlib, easyfsl\n",
      "Successfully installed contourpy-1.3.1 cycler-0.12.1 easyfsl-1.5.0 fonttools-4.56.0 kiwisolver-1.4.8 matplotlib-3.10.1 pandas-2.2.3 pyparsing-3.2.1 pytz-2025.1 tqdm-4.67.1 tzdata-2025.1\n",
      "\u001b[33mWARNING: Running pip as the 'root' user can result in broken permissions and conflicting behaviour with the system package manager, possibly rendering your system unusable. It is recommended to use a virtual environment instead: https://pip.pypa.io/warnings/venv. Use the --root-user-action option if you know what you are doing and want to suppress this warning.\u001b[0m\u001b[33m\n",
      "\u001b[0m"
     ]
    }
   ],
   "source": [
    "!git clone https://github.com/sicara/easy-few-shot-learning\n",
    "%cd easy-few-shot-learning\n",
    "!pip install ."
   ]
  },
  {
   "cell_type": "code",
   "execution_count": 11,
   "id": "ed5a4572-0076-4064-8f1c-088e5485f53c",
   "metadata": {},
   "outputs": [
    {
     "name": "stdout",
     "output_type": "stream",
     "text": [
      "/app/notebooks\n"
     ]
    }
   ],
   "source": [
    "%cd app/notebooks\n",
    "!unzip -qq \"easy-few-shot-learning (1).zip\""
   ]
  },
  {
   "cell_type": "code",
   "execution_count": 9,
   "id": "223ab826-48cf-42d0-b4d2-608f55c2c47a",
   "metadata": {},
   "outputs": [
    {
     "name": "stdout",
     "output_type": "stream",
     "text": [
      "NGC-DL-CONTAINER-LICENSE  cuda-keyring_1.1-1_all.deb  lib     media  root  sys\n",
      "app\t\t\t  dev\t\t\t      lib32   mnt    run   tmp\n",
      "bin\t\t\t  etc\t\t\t      lib64   opt    sbin  usr\n",
      "boot\t\t\t  home\t\t\t      libx32  proc   srv   var\n"
     ]
    }
   ],
   "source": [
    "!ls"
   ]
  },
  {
   "cell_type": "code",
   "execution_count": null,
   "id": "48f0f7b6-cb79-4cd8-bbf9-8dca1d711d1f",
   "metadata": {},
   "outputs": [],
   "source": []
  },
  {
   "cell_type": "code",
   "execution_count": 10,
   "id": "12008d43-7d67-43f0-8371-cddc7a207781",
   "metadata": {},
   "outputs": [
    {
     "name": "stdout",
     "output_type": "stream",
     "text": [
      "./app/notebooks/.Trash-0/files/Untitled.ipynb\n",
      "./app/notebooks/Untitled.ipynb\n"
     ]
    }
   ],
   "source": [
    "!find . -name \"Untitled.ipynb\" 2>/dev/null"
   ]
  },
  {
   "cell_type": "code",
   "execution_count": 23,
   "id": "6366cc35-c4d7-42da-8613-0b7b8665685f",
   "metadata": {},
   "outputs": [
    {
     "name": "stdout",
     "output_type": "stream",
     "text": [
      "Collecting scipy\n",
      "  Downloading scipy-1.15.2-cp310-cp310-manylinux_2_17_x86_64.manylinux2014_x86_64.whl.metadata (61 kB)\n",
      "Requirement already satisfied: numpy<2.5,>=1.23.5 in /usr/local/lib/python3.10/dist-packages (from scipy) (2.1.2)\n",
      "Downloading scipy-1.15.2-cp310-cp310-manylinux_2_17_x86_64.manylinux2014_x86_64.whl (37.6 MB)\n",
      "\u001b[2K   \u001b[90m━━━━━━━━━━━━━━━━━━━━━━━━━━━━━━━━━━━━━━━━\u001b[0m \u001b[32m37.6/37.6 MB\u001b[0m \u001b[31m44.4 MB/s\u001b[0m eta \u001b[36m0:00:00\u001b[0m00:01\u001b[0m00:01\u001b[0m\n",
      "Installing collected packages: scipy\n",
      "Successfully installed scipy-1.15.2\n",
      "\u001b[33mWARNING: Running pip as the 'root' user can result in broken permissions and conflicting behaviour with the system package manager, possibly rendering your system unusable. It is recommended to use a virtual environment instead: https://pip.pypa.io/warnings/venv. Use the --root-user-action option if you know what you are doing and want to suppress this warning.\u001b[0m\u001b[33m\n",
      "\u001b[0m"
     ]
    }
   ],
   "source": [
    "!pip3 install scipy"
   ]
  },
  {
   "cell_type": "code",
   "execution_count": 50,
   "id": "b0afe853-c6ee-4725-b7e7-d2480e882926",
   "metadata": {},
   "outputs": [
    {
     "name": "stdout",
     "output_type": "stream",
     "text": [
      "Using cache found in /root/.cache/torch/hub/facebookresearch_dinov2_main\n",
      "/root/.cache/torch/hub/facebookresearch_dinov2_main/dinov2/layers/swiglu_ffn.py:51: UserWarning: xFormers is not available (SwiGLU)\n",
      "  warnings.warn(\"xFormers is not available (SwiGLU)\")\n",
      "/root/.cache/torch/hub/facebookresearch_dinov2_main/dinov2/layers/attention.py:33: UserWarning: xFormers is not available (Attention)\n",
      "  warnings.warn(\"xFormers is not available (Attention)\")\n",
      "/root/.cache/torch/hub/facebookresearch_dinov2_main/dinov2/layers/block.py:40: UserWarning: xFormers is not available (Block)\n",
      "  warnings.warn(\"xFormers is not available (Block)\")\n",
      "Predicting embeddings: 100%|███████████████| 313/313 [00:28<00:00, 11.01batch/s]\n",
      "                                              embedding  class_name\n",
      "0     [tensor(-2.0613), tensor(-0.0589), tensor(-0.7...          49\n",
      "1     [tensor(-1.3690), tensor(1.8630), tensor(-0.38...          33\n",
      "2     [tensor(0.1445), tensor(-1.8963), tensor(1.898...          72\n",
      "3     [tensor(3.2648), tensor(0.3491), tensor(1.4198...          51\n",
      "4     [tensor(0.8601), tensor(-1.3762), tensor(-0.80...          71\n",
      "...                                                 ...         ...\n",
      "9995  [tensor(-2.9062), tensor(2.3173), tensor(1.338...          83\n",
      "9996  [tensor(-1.6334), tensor(0.1642), tensor(-0.95...          14\n",
      "9997  [tensor(3.3060), tensor(1.8840), tensor(-0.019...          51\n",
      "9998  [tensor(-0.9286), tensor(0.8055), tensor(0.448...          42\n",
      "9999  [tensor(2.4418), tensor(-2.2408), tensor(2.876...          70\n",
      "\n",
      "[10000 rows x 2 columns]\n",
      "100%|████████████████████| 10000/10000 [00:35<00:00, 285.13it/s, accuracy=0.895]\n",
      "Average accuracy : 89.55 %\n"
     ]
    }
   ],
   "source": [
    "!python3 fewshot.py"
   ]
  },
  {
   "cell_type": "code",
   "execution_count": null,
   "id": "a3ba29ef-7fb8-4537-82fe-4a1ac348a062",
   "metadata": {},
   "outputs": [],
   "source": [
    "# 5-way 5-shot:\n",
    "# aircraft (baseline): 73.64%\n",
    "# aircraft: (with proper sigmoid mask): 73.65%\n",
    "# aircraft: (with proper sigmoid magnitude mask): 73.40% / 73.66%\n",
    "# aircraft: (sigmoid mask of temperature 0.1): 73.73% (lower temperature leads to better results)\n",
    "\n",
    "# flowers (baseline): 99.95%\n",
    "# flowers (with proper sigmoid mask): 99.95%\n",
    "# flowers (with proper sigmoid magnitude mask (temp 0.5 or 1 or 2)): 99.95%\n",
    "\n",
    "# cifar-100 (baseline): 96.34%\n",
    "# cifar-100 (with proper sigmoid magnitude mask): 96.31% (try adjusting temperature, this is a hyperparameter)\n",
    "# cifar-100 (with proper sigmoid magnitude mask and temp 2): 96.34% (try adjusting temperature, this is a hyperparameter)\n",
    "# cifar-100 (with proper sigmoid magnitude mask and temp 0.5): 96.39% (try adjusting temperature, this is a hyperparameter)\n",
    "# cifar-100 (with proper sigmoid magnitude mask and temp 0.1): 96.33% (try adjusting temperature, this is a hyperparameter)\n",
    "\n",
    "# 5-way 1-shot\n",
    "# cifar-100 (baseline): 89.61%\n",
    "# cifar-100 (with proper sigmoid magnitude mask): 89.55%"
   ]
  }
 ],
 "metadata": {
  "kernelspec": {
   "display_name": "Python 3 (ipykernel)",
   "language": "python",
   "name": "python3"
  },
  "language_info": {
   "codemirror_mode": {
    "name": "ipython",
    "version": 3
   },
   "file_extension": ".py",
   "mimetype": "text/x-python",
   "name": "python",
   "nbconvert_exporter": "python",
   "pygments_lexer": "ipython3",
   "version": "3.10.12"
  }
 },
 "nbformat": 4,
 "nbformat_minor": 5
}
